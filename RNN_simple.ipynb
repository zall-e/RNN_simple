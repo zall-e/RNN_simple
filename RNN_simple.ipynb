{
  "nbformat": 4,
  "nbformat_minor": 0,
  "metadata": {
    "colab": {
      "provenance": []
    },
    "kernelspec": {
      "name": "python3",
      "display_name": "Python 3"
    },
    "language_info": {
      "name": "python"
    }
  },
  "cells": [
    {
      "cell_type": "markdown",
      "source": [
        "### Install library"
      ],
      "metadata": {
        "id": "vgH8TlYzj9rz"
      }
    },
    {
      "cell_type": "code",
      "source": [
        "# ! pip install matplotlib"
      ],
      "metadata": {
        "id": "_qaum_u1j2l-"
      },
      "execution_count": null,
      "outputs": []
    },
    {
      "cell_type": "markdown",
      "source": [
        "### Import library"
      ],
      "metadata": {
        "id": "HEGP-Xw0cJ8c"
      }
    },
    {
      "cell_type": "code",
      "source": [
        "import torch\n",
        "import torch.nn as nn\n",
        "import matplotlib.pyplot as plt"
      ],
      "metadata": {
        "id": "zx-HocPBcB4L"
      },
      "execution_count": null,
      "outputs": []
    },
    {
      "cell_type": "markdown",
      "source": [
        "### Define RNN class"
      ],
      "metadata": {
        "id": "1Wueepl1cO8b"
      }
    },
    {
      "cell_type": "code",
      "source": [
        "class SimpleRNN(nn.Module):\n",
        "    def __init__(self, input_size, hidden_size, output_size):\n",
        "        super(SimpleRNN, self).__init__()\n",
        "        self.hidden_size = hidden_size\n",
        "\n",
        "        self.rnn = nn.RNN(input_size, hidden_size, batch_first=True)\n",
        "\n",
        "        # fully connected(hidden to output space)\n",
        "        self.fc = nn.Linear(hidden_size, output_size)\n",
        "\n",
        "    def forward(self, x, h_prev):\n",
        "        # Update history of previous steps(hidden state)\n",
        "        out, h_next = self.rnn(x, h_prev)\n",
        "\n",
        "        # output in before layer to fully connected\n",
        "        y = self.fc(out)\n",
        "        return y, h_next"
      ],
      "metadata": {
        "id": "vhKhfgSacGB-"
      },
      "execution_count": null,
      "outputs": []
    },
    {
      "cell_type": "markdown",
      "source": [
        "### Asyn value from model"
      ],
      "metadata": {
        "id": "GxEfR_9heFHo"
      }
    },
    {
      "cell_type": "code",
      "source": [
        "input_size = 3   # count of feature (Temperature, pressure, humidity)\n",
        "hidden_size = 5  # count of hidden layer\n",
        "output_size = 2  # count of output"
      ],
      "metadata": {
        "id": "UwTv0SWIdwOm"
      },
      "execution_count": null,
      "outputs": []
    },
    {
      "cell_type": "markdown",
      "source": [
        "### Create model from use"
      ],
      "metadata": {
        "id": "QksHtCYxd8SY"
      }
    },
    {
      "cell_type": "code",
      "source": [
        "rnn = SimpleRNN(input_size, hidden_size, output_size)"
      ],
      "metadata": {
        "id": "TTRn__ehd0Zp"
      },
      "execution_count": null,
      "outputs": []
    },
    {
      "cell_type": "markdown",
      "source": [
        "### Define input data"
      ],
      "metadata": {
        "id": "QQqUkbtFeMfW"
      }
    },
    {
      "cell_type": "code",
      "source": [
        "x_sequence = torch.tensor([\n",
        "    [[0.5, 0.2, 0.1],  # real-time data 1\n",
        "     [0.6, 0.3, 0.2],  # real-time data 2\n",
        "     [0.4, 0.1, 0.3],  # real-time data 3\n",
        "     [0.7, 0.5, 0.4]]  # real-time data 4\n",
        "], dtype=torch.float32)  # change type of data to float32"
      ],
      "metadata": {
        "id": "-X5SiJ1KeU2z"
      },
      "execution_count": null,
      "outputs": []
    },
    {
      "cell_type": "markdown",
      "source": [
        "### Define first value from history data"
      ],
      "metadata": {
        "id": "XZqd8VN1ehg4"
      }
    },
    {
      "cell_type": "code",
      "source": [
        "h_prev = torch.zeros(1, 1, hidden_size)"
      ],
      "metadata": {
        "id": "1cS0nV_qenBf"
      },
      "execution_count": null,
      "outputs": []
    },
    {
      "cell_type": "markdown",
      "source": [
        "### Pass data from model"
      ],
      "metadata": {
        "id": "6PdBeFcffEZH"
      }
    },
    {
      "cell_type": "code",
      "source": [
        "output, h_next = rnn(x_sequence, h_prev)"
      ],
      "metadata": {
        "id": "WExwBhtkfDiw"
      },
      "execution_count": null,
      "outputs": []
    },
    {
      "cell_type": "markdown",
      "source": [
        "### Showing output"
      ],
      "metadata": {
        "id": "tssIpiPDffoB"
      }
    },
    {
      "cell_type": "code",
      "source": [
        "print(\"output RNN:\")\n",
        "print(output)"
      ],
      "metadata": {
        "colab": {
          "base_uri": "https://localhost:8080/"
        },
        "id": "wBx9tptQaTP3",
        "outputId": "686a9a4d-7c55-411c-eda6-c100184c2066"
      },
      "execution_count": null,
      "outputs": [
        {
          "output_type": "stream",
          "name": "stdout",
          "text": [
            "output RNN:\n",
            "tensor([[[-0.1349, -0.5323],\n",
            "         [-0.1804, -0.3870],\n",
            "         [-0.1599, -0.4057],\n",
            "         [-0.1263, -0.3641]]], grad_fn=<ViewBackward0>)\n"
          ]
        }
      ]
    },
    {
      "cell_type": "code",
      "source": [
        "import torch.nn.functional as F\n",
        "\n",
        "probabilities = F.softmax(output, dim=-1)\n",
        "print(probabilities)"
      ],
      "metadata": {
        "colab": {
          "base_uri": "https://localhost:8080/"
        },
        "id": "d4Ksj5B5wSu3",
        "outputId": "dc0e6c0b-89e8-47e9-cd22-6d37d15ddf2e"
      },
      "execution_count": null,
      "outputs": [
        {
          "output_type": "stream",
          "name": "stdout",
          "text": [
            "tensor([[[0.5981, 0.4019],\n",
            "         [0.5515, 0.4485],\n",
            "         [0.5611, 0.4389],\n",
            "         [0.5592, 0.4408]]], grad_fn=<SoftmaxBackward0>)\n"
          ]
        }
      ]
    },
    {
      "cell_type": "markdown",
      "source": [
        "# Matplotlib"
      ],
      "metadata": {
        "id": "xJyF9Y_Phtim"
      }
    },
    {
      "cell_type": "code",
      "source": [
        "output_np = output.detach().numpy()[0]\n",
        "time_steps = range(1, len(output_np) + 1)"
      ],
      "metadata": {
        "id": "hJ-gMj_Ihs8v"
      },
      "execution_count": null,
      "outputs": []
    },
    {
      "cell_type": "markdown",
      "source": [
        "### Drawing from any feature output"
      ],
      "metadata": {
        "id": "Fjl1W7aoiBk5"
      }
    },
    {
      "cell_type": "code",
      "source": [
        "plt.figure(figsize=(8, 5))\n",
        "for i in range(output_size):\n",
        "    plt.plot(time_steps, output_np[:, i], label=f'Feature Output {i + 1}')\n",
        "\n",
        "plt.title(\"output RNN\")\n",
        "plt.xlabel(\"Time Step\")\n",
        "plt.ylabel(\"Predicted by the model\")\n",
        "plt.legend()\n",
        "plt.grid(True)\n",
        "plt.show()"
      ],
      "metadata": {
        "id": "XQqkreHAh-sO",
        "colab": {
          "base_uri": "https://localhost:8080/",
          "height": 487
        },
        "outputId": "e90c50dd-7c8c-40f0-e9ba-aa0e16da71c4"
      },
      "execution_count": null,
      "outputs": [
        {
          "output_type": "display_data",
          "data": {
            "text/plain": [
              "<Figure size 800x500 with 1 Axes>"
            ],
            "image/png": "[encoded data removed]"
          },
          "metadata": {}
        }
      ]
    }
  ]
}